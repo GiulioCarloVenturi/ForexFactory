{
  "nbformat": 4,
  "nbformat_minor": 0,
  "metadata": {
    "colab": {
      "provenance": [],
      "collapsed_sections": [
        "1YJczwwmD7SM",
        "41z2C4imEKy0"
      ],
      "authorship_tag": "ABX9TyOF/w4wlBl0tlif8FPlwhD8",
      "include_colab_link": true
    },
    "kernelspec": {
      "name": "python3",
      "display_name": "Python 3"
    },
    "language_info": {
      "name": "python"
    }
  },
  "cells": [
    {
      "cell_type": "markdown",
      "metadata": {
        "id": "view-in-github",
        "colab_type": "text"
      },
      "source": [
        "<a href=\"https://colab.research.google.com/github/GiulioCarloVenturi/ForexFactory/blob/main/ForexFactory_Webscraping_NoOverlap.ipynb\" target=\"_parent\"><img src=\"https://colab.research.google.com/assets/colab-badge.svg\" alt=\"Open In Colab\"/></a>"
      ]
    },
    {
      "cell_type": "markdown",
      "source": [
        "\n",
        "## ForexFactory: Webscraping of Announcements and Removal of Overlapping Events"
      ],
      "metadata": {
        "id": "iHN5tfhkC7WX"
      }
    },
    {
      "cell_type": "markdown",
      "source": [
        "# Scraping of Event Records\n",
        "Please read the code ForexFactory_Webscapring.ipynb for further details about the scarping procedure."
      ],
      "metadata": {
        "id": "1YJczwwmD7SM"
      }
    },
    {
      "cell_type": "code",
      "source": [
        "start_year = 2024\n",
        "start_month = 2\n",
        "start_day = 1\n",
        "end_year = 2024\n",
        "end_month = 2\n",
        "end_day = 12\n",
        "timezone_UStoITA = 1"
      ],
      "metadata": {
        "id": "Yb_rgkIhGQS4"
      },
      "execution_count": null,
      "outputs": []
    },
    {
      "cell_type": "code",
      "execution_count": null,
      "metadata": {
        "id": "xtCksAOy3iU7"
      },
      "outputs": [],
      "source": [
        "!pip install beautifulsoup4\n",
        "!pip install cloudscraper\n",
        "import cloudscraper\n",
        "from bs4 import BeautifulSoup\n",
        "import datetime as dt\n",
        "from datetime import *\n",
        "import pandas as pd\n",
        "import pytz"
      ]
    },
    {
      "cell_type": "code",
      "source": [
        "def url_forexfactory(data):\n",
        "    month = data.strftime(\"%b\")\n",
        "    day = data.strftime(\"%d\")\n",
        "    year = data.year\n",
        "    url_ff = f\"calendar?day={month}{day}.{year}\"\n",
        "    return url_ff\n",
        "\n",
        "def date_range(start_date, end_date):\n",
        "    date_list = []\n",
        "    current_date = start_date\n",
        "    while current_date <= end_date:\n",
        "        date_list.append(current_date)\n",
        "        current_date += dt.timedelta(days=1)\n",
        "    return date_list\n",
        "\n",
        "event_date = list()\n",
        "event_time = list()\n",
        "currency = list()\n",
        "forecast = list()\n",
        "previous = list()\n",
        "actual = list()\n",
        "impact = list()\n",
        "event = list()\n",
        "n_event = list()\n",
        "start_date = dt.date(start_year,start_month,start_day)\n",
        "end_date = dt.date(end_year,end_month,end_day)\n",
        "date_list = date_range(start_date, end_date)\n",
        "for j in date_list:\n",
        "  date_url = url_forexfactory(j)\n",
        "  scraper = cloudscraper.create_scraper()\n",
        "  url = 'https://www.forexfactory.com/' + date_url\n",
        "  page = scraper.get(url).text\n",
        "  soup = BeautifulSoup(page, 'html.parser')\n",
        "  table = soup.find('table', class_ = 'calendar__table')\n",
        "  n_event = len(table.find_all('td', class_ = 'calendar__event'))\n",
        "\n",
        "  for i in range(n_event):\n",
        "    event_date.append(j.strftime(\"%d/%m/%Y\"))\n",
        "    currency.append(table.find_all('td', class_ = 'calendar__currency')[i].text.strip())\n",
        "    forecast.append(table.find_all('td', class_ = 'calendar__forecast')[i].text.strip())\n",
        "    previous.append(table.find_all('td', class_ = 'calendar__previous')[i].text.strip())\n",
        "    actual.append(table.find_all('td', class_ = 'calendar__actual')[i].text.strip())\n",
        "    event.append(table.find_all('td', class_ = 'calendar__event')[i].text.strip())\n",
        "    impact.append(table.find_all('td', class_ = 'calendar__impact')[i].find_next('span')['class'][1])\n",
        "    event_time.append(table.find_all('td', class_ = 'calendar__time')[i].text.strip())\n",
        "  print(j)\n",
        "\n",
        "for i in range(len(impact)):\n",
        "  if impact[i][16:len(impact[i])] == 'red':\n",
        "    impact[i] = 'Red'\n",
        "  elif impact[i][16:len(impact[i])] == 'ora':\n",
        "    impact[i] = 'Orange'\n",
        "  elif impact[i][16:len(impact[i])] == 'yel':\n",
        "    impact[i] = 'Yellow'\n",
        "  elif impact[i][16:len(impact[i])] == 'gra':\n",
        "    impact[i] = 'Gray'\n",
        "\n",
        "for i in range(len(event_time)):\n",
        "  if event_time[i][len(event_time[i])-2:len(event_time[i])] == 'am' or event_time[i][len(event_time[i])-2:len(event_time[i])] == 'pm':\n",
        "    event_time[i] = datetime.strftime(datetime.strptime(event_time[i], \"%I:%M%p\"), \"%H:%M\")\n",
        "  if event_time[i] == '':\n",
        "    event_time[i] = event_time[i-1]\n",
        "  if ((event_time[i] == 'All Day')  and (actual[i] != '')):\n",
        "    event_time[i] = event_time [i-1]\n",
        "\n",
        "if timezone_UStoITA == 1:\n",
        "  for i in range(len(event_time)):\n",
        "   if event_time[i][2] == ':':\n",
        "     date_str = f\"{event_date[i]} {event_time[i]}\"\n",
        "     date_obj = datetime.strptime(date_str, '%d/%m/%Y %H:%M')\n",
        "     timestamp_ny = datetime(date_obj.year, date_obj.month, date_obj.day, date_obj.hour, date_obj.minute, tzinfo=pytz.timezone('America/New_York'))\n",
        "     timestamp_rome = timestamp_ny.astimezone(pytz.timezone('Europe/Rome'))+timedelta(minutes=4)\n",
        "     event_date[i] = timestamp_rome.strftime(\"%d/%m/%Y\")\n",
        "     event_time[i] = timestamp_rome.strftime(\"%H:%M\")\n",
        "\n",
        "ff_data = {'Date': event_date, 'Time': event_time, 'Event': event, 'Currency': currency, 'Impact': impact, 'Actual': actual, 'Forecast': forecast, 'Previous': previous}\n",
        "ff_dataframe = pd.DataFrame(data=ff_data)"
      ],
      "metadata": {
        "id": "XhBZ5ivMtSvA"
      },
      "execution_count": null,
      "outputs": []
    },
    {
      "cell_type": "markdown",
      "source": [
        "# Detection and Removal of Overlapping Events"
      ],
      "metadata": {
        "id": "41z2C4imEKy0"
      }
    },
    {
      "cell_type": "markdown",
      "source": [
        "Filter announcement records to retrieve events in US and EA with Red and Orange impact.\n",
        "\n",
        "Build a (t-15',t+15') window around announcementsevents.\n"
      ],
      "metadata": {
        "id": "fjmapGqADHU7"
      }
    },
    {
      "cell_type": "code",
      "source": [
        "data3 = ff_dataframe.query('(Currency == \"USD\" or Currency == \"EUR\") and (Impact == \"Red\" or Impact == \"Orange\")', inplace=False)\n",
        "date_obj = list()\n",
        "window_l = list()\n",
        "window_r = list()\n",
        "\n",
        "for i in data3.index:\n",
        "  date_str = f\"{data3.Date[i]} {data3.Time[i]}\"\n",
        "  date_obj.append(datetime.strptime(date_str, '%d/%m/%Y %H:%M'))\n",
        "  window_l.append(date_obj[-1] - timedelta(minutes=15))\n",
        "  window_r.append(date_obj[-1] + timedelta(minutes=15))\n",
        "\n",
        "d_frame = {'Left': window_l, 'Date': date_obj, 'Right': window_r,\n",
        "           'Event': data3.Event, 'Currency': data3.Currency,\n",
        "           'Impact': data3.Impact, 'Actual': data3.Actual,\n",
        "           'Forecast': data3.Forecast, 'Previous': data3.Previous}\n",
        "dd_frame = pd.DataFrame(data=d_frame)\n",
        "dd_frame"
      ],
      "metadata": {
        "id": "EHUJvaTammpK"
      },
      "execution_count": null,
      "outputs": []
    },
    {
      "cell_type": "markdown",
      "source": [
        "Detect and remove announcements in different regions, whose time windows intersect.\n",
        "\n",
        "E.g. Event X in EA at 14:15 and Event Y in US at 14:30: both are removed"
      ],
      "metadata": {
        "id": "_DTwcRQzDRA8"
      }
    },
    {
      "cell_type": "code",
      "source": [
        "rem_event = list()\n",
        "j_event = list()\n",
        "i_event = list()\n",
        "\n",
        "for j in data3.index:\n",
        "#  print(j)\n",
        "  for i in data3.index:\n",
        "    if ((dd_frame.Left[j] <= dd_frame.Left[i] <= dd_frame.Right[j]) and (dd_frame.Currency[i] != dd_frame.Currency[j])):\n",
        "      rem_event.append(i)\n",
        "      i_event.append(i)\n",
        "#  print(rem_event)\n",
        "  if rem_event:\n",
        "    j_event.append(j)\n",
        "  rem_event.clear()\n",
        "\n",
        "index_rem = set(i_event+j_event)\n",
        "data4 = dd_frame.drop(index_rem)\n",
        "\n",
        "month_file_start = start_date.strftime(\"%b\")\n",
        "day_file_start = start_date.strftime(\"%d\")\n",
        "year_file_start = start_date.year\n",
        "month_file_end = end_date.strftime(\"%b\")\n",
        "day_file_end = end_date.strftime(\"%d\")\n",
        "year_file_end = end_date.year\n",
        "xlsx_file = f\"FF_{day_file_start}{month_file_start}{year_file_start}_{day_file_end}{month_file_end}{year_file_end}_NoOverlap.xlsx\"\n",
        "data4.to_excel(xlsx_file,index=False)"
      ],
      "metadata": {
        "id": "0P2yrwKrmlwQ"
      },
      "execution_count": null,
      "outputs": []
    }
  ]
}