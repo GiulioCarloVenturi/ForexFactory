{
  "nbformat": 4,
  "nbformat_minor": 0,
  "metadata": {
    "colab": {
      "provenance": []
    },
    "kernelspec": {
      "name": "python3",
      "display_name": "Python 3"
    },
    "language_info": {
      "name": "python"
    }
  },
  "cells": [
    {
      "cell_type": "markdown",
      "source": [
        "\n",
        "# ForexFactory: Webscraping of Announcements\n"
      ],
      "metadata": {
        "id": "OV120DV0N970"
      }
    },
    {
      "cell_type": "markdown",
      "source": [
        "In order to let this code download announcement records within a given time window from forexfactory.com\n",
        "1. Input year, month, and day of start date\n",
        "2. Input year, month, and day of end date\n",
        "\n",
        "3. Forex Factory reports announcements at UTC-5 (New York) time.\n",
        "  * Set timezone_UStoITA = 0 if you wish to keep UTC-5 (New York)\n",
        "  * Set timezone_UStoITA = 1 if you wish to convert timezone to UTC+1 (Rome)\n",
        "---\n",
        "Note that events on the first date before 08:00 Italian time will not be reported, because ForexFactory reports events at UTC-5 New-York time, and therefore, they will are reported in start_date-1\n",
        "\n",
        "\n"
      ],
      "metadata": {
        "id": "GtHTtGvw6ZmY"
      }
    },
    {
      "cell_type": "code",
      "source": [
        "start_year = 2024\n",
        "start_month = 1\n",
        "start_day = 1\n",
        "end_year = 2024\n",
        "end_month = 2\n",
        "end_day = 8\n",
        "timezone_UStoITA = 1"
      ],
      "metadata": {
        "id": "Yb_rgkIhGQS4"
      },
      "execution_count": null,
      "outputs": []
    },
    {
      "cell_type": "markdown",
      "source": [
        "Load packages and modules\n",
        "\n",
        "You need the module beautifulsoup4 to scrape data from the webpage\n",
        "\n",
        "You need the module cloudscraper to bypass Cloudflare protection"
      ],
      "metadata": {
        "id": "7Fee9V908qTF"
      }
    },
    {
      "cell_type": "code",
      "execution_count": null,
      "metadata": {
        "id": "xtCksAOy3iU7"
      },
      "outputs": [],
      "source": [
        "!pip install beautifulsoup4\n",
        "!pip install cloudscraper\n",
        "import cloudscraper\n",
        "from bs4 import BeautifulSoup\n",
        "import datetime as dt\n",
        "from datetime import *\n",
        "import pandas as pd\n",
        "import pytz"
      ]
    },
    {
      "cell_type": "markdown",
      "source": [
        "Function **url_forexfactory** builds the last part of url string, which is\n",
        "needed to access announcement records on a given day. E.g., the url to access announcement records for 05-Feb-2024 is\n",
        "https://www.forexfactory.com/calendar?day=Feb05.2024, the function builds string \"calendar?day=Feb05.2024\""
      ],
      "metadata": {
        "id": "RY0O0dmv9B9V"
      }
    },
    {
      "cell_type": "code",
      "source": [
        "def url_forexfactory(data):\n",
        "    month = data.strftime(\"%b\")\n",
        "    day = data.strftime(\"%d\")\n",
        "    year = data.year\n",
        "    url_ff = f\"calendar?day={month}{day}.{year}\"\n",
        "    return url_ff"
      ],
      "metadata": {
        "id": "XhBZ5ivMtSvA"
      },
      "execution_count": null,
      "outputs": []
    },
    {
      "cell_type": "markdown",
      "source": [
        "Function **date_range** builds a list of the dates within the start_date and end_date boundaries"
      ],
      "metadata": {
        "id": "0mErV3s5ApQg"
      }
    },
    {
      "cell_type": "code",
      "source": [
        "def date_range(start_date, end_date):\n",
        "    date_list = []\n",
        "    current_date = start_date\n",
        "    while current_date < end_date:\n",
        "        date_list.append(current_date)\n",
        "        current_date += dt.timedelta(days=1)\n",
        "    return date_list"
      ],
      "metadata": {
        "id": "GjUqM2Z8ApkY"
      },
      "execution_count": null,
      "outputs": []
    },
    {
      "cell_type": "markdown",
      "source": [
        "The code recursively loops across each date within the provided time window, in order to retrieve announcement records. Each attribute of the announcement (e.g. currency, time) is stored in a list."
      ],
      "metadata": {
        "id": "0e_XvFJGA2kn"
      }
    },
    {
      "cell_type": "code",
      "source": [
        "event_date = list()\n",
        "event_time = list()\n",
        "currency = list()\n",
        "forecast = list()\n",
        "previous = list()\n",
        "actual = list()\n",
        "impact = list()\n",
        "event = list()\n",
        "n_event = list()\n",
        "start_date = dt.date(start_year,start_month,start_day)\n",
        "end_date = dt.date(end_year,end_month,end_day)\n",
        "date_list = date_range(start_date, end_date)\n",
        "for j in date_list:\n",
        "  date_url = url_forexfactory(j)\n",
        "  scraper = cloudscraper.create_scraper()\n",
        "  url = 'https://www.forexfactory.com/' + date_url\n",
        "  page = scraper.get(url).text\n",
        "  soup = BeautifulSoup(page, 'html.parser')\n",
        "  table = soup.find('table', class_ = 'calendar__table')\n",
        "  n_event = len(table.find_all('td', class_ = 'calendar__event'))\n",
        "\n",
        "  for i in range(n_event):\n",
        "    event_date.append(j.strftime(\"%d/%m/%Y\"))\n",
        "    currency.append(table.find_all('td', class_ = 'calendar__currency')[i].text.strip())\n",
        "    forecast.append(table.find_all('td', class_ = 'calendar__forecast')[i].text.strip())\n",
        "    previous.append(table.find_all('td', class_ = 'calendar__previous')[i].text.strip())\n",
        "    actual.append(table.find_all('td', class_ = 'calendar__actual')[i].text.strip())\n",
        "    event.append(table.find_all('td', class_ = 'calendar__event')[i].text.strip())\n",
        "    impact.append(table.find_all('td', class_ = 'calendar__impact')[i].find_next('span')['class'][1])\n",
        "    event_time.append(table.find_all('td', class_ = 'calendar__time')[i].text.strip())\n",
        "  print(j)"
      ],
      "metadata": {
        "id": "DwKmn9oJGbN3"
      },
      "execution_count": null,
      "outputs": []
    },
    {
      "cell_type": "markdown",
      "source": [
        "The attribute \"Impact\" is refined, in order to display the color as either Red, Orange, Yellow, or Gray."
      ],
      "metadata": {
        "id": "cOGdqCsUBVSt"
      }
    },
    {
      "cell_type": "code",
      "source": [
        "for i in range(len(impact)):\n",
        "  if impact[i][16:len(impact[i])] == 'red':\n",
        "      impact[i] = 'Red'\n",
        "  elif impact[i][16:len(impact[i])] == 'ora':\n",
        "      impact[i] = 'Orange'\n",
        "  elif impact[i][16:len(impact[i])] == 'yel':\n",
        "     impact[i] = 'Yellow'\n",
        "  elif impact[i][16:len(impact[i])] == 'gra':\n",
        "      impact[i] = 'Gray'"
      ],
      "metadata": {
        "id": "Ef8MqdFm5elx"
      },
      "execution_count": null,
      "outputs": []
    },
    {
      "cell_type": "markdown",
      "source": [
        "The \"Time\" attribute is refined, in order to display time in 24h HH:MM format.\n",
        "\n",
        "If timezone_UStoITA = 1, the code changes the original time zone to UTC+1 (Rome)."
      ],
      "metadata": {
        "id": "Bxjti4AhBj0g"
      }
    },
    {
      "cell_type": "code",
      "source": [
        "for i in range(len(event_time)):\n",
        "  if event_time[i][len(event_time[i])-2:len(event_time[i])] == 'am' or event_time[i][len(event_time[i])-2:len(event_time[i])] == 'pm':\n",
        "    event_time[i] = datetime.strftime(datetime.strptime(event_time[i], \"%I:%M%p\"), \"%H:%M\")\n",
        "  if event_time[i] == '':\n",
        "    event_time[i] = event_time[i-1]\n",
        "  if ((event_time[i] == 'All Day')  and (actual[i] != '')):\n",
        "    event_time[i] = event_time [i-1]\n",
        "\n",
        "if timezone_UStoITA == 1:\n",
        "  for i in range(len(event_time)):\n",
        "   if event_time[i][2] == ':':\n",
        "     date_str = f\"{event_date[i]} {event_time[i]}\"\n",
        "     date_obj = datetime.strptime(date_str, '%d/%m/%Y %H:%M')\n",
        "     timestamp_ny = datetime(date_obj.year, date_obj.month, date_obj.day, date_obj.hour, date_obj.minute, tzinfo=pytz.timezone('America/New_York'))\n",
        "     timestamp_rome = timestamp_ny.astimezone(pytz.timezone('Europe/Rome'))+timedelta(minutes=4)\n",
        "     event_date[i] = timestamp_rome.strftime(\"%d/%m/%Y\")\n",
        "     event_time[i] = timestamp_rome.strftime(\"%H:%M\")"
      ],
      "metadata": {
        "id": "Nn6b1O4UGEU6"
      },
      "execution_count": null,
      "outputs": []
    },
    {
      "cell_type": "markdown",
      "source": [
        "Event records are stored in a dataframe and saved to the Excel spreadsheet \"FF_startdate_enddate.xlsx\""
      ],
      "metadata": {
        "id": "LTmg8PcmCZia"
      }
    },
    {
      "cell_type": "code",
      "source": [
        "month_file_start = start_date.strftime(\"%b\")\n",
        "day_file_start = start_date.strftime(\"%d\")\n",
        "year_file_start = start_date.year\n",
        "month_file_end = end_date.strftime(\"%b\")\n",
        "day_file_end = end_date.strftime(\"%d\")\n",
        "year_file_end = end_date.year\n",
        "xlsx_file = f\"FF_{day_file_start}{month_file_start}{year_file_start}_{day_file_end}{month_file_end}{year_file_end}.xlsx\"\n",
        "ff_data = {'Date': event_date, 'Time': event_time, 'Event': event, 'Currency': currency, 'Impact': impact, 'Actual': actual, 'Forecast': forecast, 'Previous': previous}\n",
        "ff_dataframe = pd.DataFrame(data=ff_data)\n",
        "ff_dataframe.to_excel(xlsx_file,index=False)"
      ],
      "metadata": {
        "id": "KkeDN5br7a3N"
      },
      "execution_count": null,
      "outputs": []
    }
  ]
}